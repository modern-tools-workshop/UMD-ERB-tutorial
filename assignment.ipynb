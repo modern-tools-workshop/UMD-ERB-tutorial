{
 "cells": [
  {
   "cell_type": "markdown",
   "metadata": {},
   "source": [
    "# Assignment\n",
    "\n",
    "Due date: Dec 2, 2022 6p\n",
    "\n",
    "You may submit the work as a group. Please submit all code and plots for Question 3 for full credit either using screenshots or as a PDF. Email the instructor your answers (bekah@umd.edu) and feel free to ask questions. \n",
    "\n",
    "IMPORTANT! If you are using binder, the notebook can timeout after 10-15 mins of inactivity. If you need to step away, download/save your work!\n",
    "\n",
    "1. Overexposure to sunlight is [damaging to coral reefs](https://aambpublicoceanservice.blob.core.windows.net/oceanserviceprod/facts/coralbleaching-large.jpg). Which is more important for monitoring coral reefs, RSR or DSR? Why? [10 pts]\n",
    "\n",
    "2. What impact will the following have on an RSR value and why? [35 pts]\n",
    "\n",
    "* Cloud-free\n",
    "* Dark rainforest\n",
    "* Stratospheric ozone (hint ozone absorbs shortwave radiation)\n",
    "* The sun is directly overhead\n",
    "* The local time is midnight\n",
    "* Thin cirrus clouds\n",
    "\n",
    "3. Using the template below as a guide, create a plot of *DSR* ('ABI-L2-DSRF') on a Nov 22, 2022 at 18:00 UTC. Refer to the original tutorial to fill in the missing portions. [40 pts]\n",
    "\n",
    "4. Identify the high/low measurements of DSR in your plot and speculate what atmospheric features could be causing these values. [15 pts]\n"
   ]
  },
  {
   "cell_type": "code",
   "execution_count": null,
   "metadata": {},
   "outputs": [],
   "source": [
    "import numpy as np\n",
    "import matplotlib.pyplot as plt\n",
    "import xarray as xr\n",
    "import s3fs\n",
    "import cartopy.crs as ccrs"
   ]
  },
  {
   "cell_type": "markdown",
   "metadata": {},
   "source": []
  },
  {
   "cell_type": "code",
   "execution_count": null,
   "metadata": {},
   "outputs": [],
   "source": [
    "fs = s3fs.S3FileSystem(anon=True)"
   ]
  },
  {
   "cell_type": "code",
   "execution_count": null,
   "metadata": {},
   "outputs": [],
   "source": [
    "# \n",
    "bucket_name = 'noaa-goes16'\n",
    "product_name = '????'\n",
    "year = \n",
    "doy = \n",
    "hour = \n",
    "\n",
    "path = bucket_name + '/' + product_name + '/' + str(year) + '/' + str(doy).zfill(3) + '/' + str(hour).zfill(2) + '/'\n",
    "print(path)"
   ]
  },
  {
   "cell_type": "code",
   "execution_count": null,
   "metadata": {},
   "outputs": [],
   "source": [
    "# If this is empty, check the path above!\n",
    "files = fs.ls(path)\n",
    "print(files)"
   ]
  },
  {
   "cell_type": "code",
   "execution_count": null,
   "metadata": {},
   "outputs": [],
   "source": [
    "# Open adn then read the file\n",
    "# Note: you'll have to inspect the contents and find the DSR variable\n",
    "remote_obj = fs.open(files[0], mode='rb')\n",
    "abi_L2 = xr.open_dataset(remote_obj, engine='h5netcdf')"
   ]
  },
  {
   "cell_type": "code",
   "execution_count": null,
   "metadata": {},
   "outputs": [],
   "source": [
    "lat = ???\n",
    "lon = ???"
   ]
  },
  {
   "cell_type": "code",
   "execution_count": null,
   "metadata": {},
   "outputs": [],
   "source": [
    "# Project the 1D grid into 2D\n",
    "X, Y = np.meshgrid(lon, lat)"
   ]
  },
  {
   "cell_type": "code",
   "execution_count": null,
   "metadata": {},
   "outputs": [],
   "source": [
    "plt.figure(figsize=[8,8])\n",
    "\n",
    "ax = plt.subplot(projection=????)\n",
    "ax.coastlines()\n",
    "ax.set_global()\n",
    "\n",
    "ax.pcolormesh(????, ????,, ????, transform=????)\n",
    "\n",
    "plt.show()"
   ]
  }
 ],
 "metadata": {
  "kernelspec": {
   "display_name": "Python 3.11.0 ('notebook_demo')",
   "language": "python",
   "name": "python3"
  },
  "language_info": {
   "codemirror_mode": {
    "name": "ipython",
    "version": 3
   },
   "file_extension": ".py",
   "mimetype": "text/x-python",
   "name": "python",
   "nbconvert_exporter": "python",
   "pygments_lexer": "ipython3",
   "version": "3.11.0"
  },
  "orig_nbformat": 4,
  "vscode": {
   "interpreter": {
    "hash": "4589143d4cda0c8671911bd60c16dc1d10ec327722e7574bc882b745b51509b4"
   }
  }
 },
 "nbformat": 4,
 "nbformat_minor": 2
}
