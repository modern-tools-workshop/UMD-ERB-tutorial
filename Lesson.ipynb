{
 "cells": [
  {
   "cell_type": "markdown",
   "id": "4e481a14",
   "metadata": {},
   "source": [
    "# Visualizing Earth's Radiation Budget using NOAA Satellite Data\n",
    "\n",
    "Goal: To lean how to read, display, and interpret satellite data, such as the [Shortwave Radiation Budget](https://www.star.nesdis.noaa.gov/goesr/product_sw.php), using Python!\n",
    "\n",
    "## A Very Short Summary of Earth's Radiation Budget\n",
    "\n",
    "Chapter 4 of Wallace and Hobbs provide a more in-depth discussion of Earth's Radiation Budget, some salient discussion points are included below.\n",
    "\n",
    "Earth's radiation budget is used to track the balance between incoming and outgoing energy. The sun provides the Earth with shortwave radiation (0.1-4.0μm) which can then be absorbed and remmited at longwave radiation (3.0–100μm) by there atmosphere or Earth's surface. If in balance, Earth's temperature remains relatively stable. If more radiation enters than exits, that can cause global warming.\n",
    "\n",
    "Shortwave radiation can be detected from [surface observation stations](https://gml.noaa.gov/grad/surfrad/) and also from space using geostationary satellites. In this lesson, we will look at three different satellite retrieval datasets (also called products):\n",
    "\n",
    "* Outgoing Longwave Radiation (OLR)\n",
    "* Reflected Shortwave Radiation (RSR)\n",
    "* Downward Shortwave Radiation (DSR)\n",
    "\n",
    "From the annotated graphic below ([source](https://scied.ucar.edu/image/radiation-budget-diagram-earth-atmosphere)), there are many processes to account for beyond the DSR, RSR, and OLR, but not all are observed from space. \n",
    "\n",
    "<center><img src=\"images/radiation_budget.jpg\" alt=\"TC\" width=\"600\"/></center>\n",
    "\n",
    "The RSR product is the result of scattering and absorption of the incident solar radiation in the atmosphere and from the surface. RSR is reflected mostly by clouds (77 W/m<sup>2</sup>) or bright surfaces like sand and snow (22.9 W/m<sup>2</sup>). The OLR product is composed of all shortwave radiation that has been absorbed and remitted to thermal longwave and emitted from the top of the atmosphere out to space. Both the RSR and OLR are important for estimating Earth's radiation budget and modeling global warming. \n",
    "\n",
    "The DSR product is an estimate of the shortwave radiative flux per unit area that reaches the Earth's surface. Unlike RSR, bright surfaces do not impact the DSR because that radiation still reaches the surface. Shortwave-absorbing atmospheric constituents and thick clouds prevent shortwave radiation from reaching the surface, thus decreasing the DSR. The DSR is important for monitoring the radiation budget at the surface and has applications in crop modeling and in the solar energy industry. \n",
    "\n",
    "## Detecting Radiation using Imagers on Geostationary Satellites\n",
    "\n",
    "The shortwave radiation budget is estimated using a *satellite retrieval algorithm* that solves radiative transfer equations using measurements from imaging radiometers ([Fu and Liou, 1993](https://doi.org/10.1175/1520-0469(1992)049<2139:OTCDMF>2.0.CO;2)). The radiative transfer equations account scattering and absorption by gases, aerosols, and clouds ([Pinker and Laszlo, 1992](https://doi.org/10.1175/1520-0442(1992)005<0056:GDOPAR>2.0.CO;2)). The [GOES-R Series ABI instrument](https://www.goes-r.gov/spacesegment/abi.html) has 16 channels that are designed to detect radiation at different spectral wavelenths. The table below shows the 16 channels and which ones are used by the SRB product.\n",
    "\n",
    "| Channel ID | Wavelength (µm) | Horizontal Resolution | Used in SRB |\n",
    "| ---------- | --------------- |  -------------------- | ----------- |\n",
    "| 1  | 0.470 | 1.0km | Yes |\n",
    "| 2  | 0.640 | 0.5km | Yes |\n",
    "| 3  | 0.865 | 1.0km | Yes |\n",
    "| 4  | 1.378 | 2.0km | Yes |\n",
    "| 5  | 1.610 | 1.0km | Yes |\n",
    "| 6  | 2.250 | 2.0km | Yes |\n",
    "| 7  | 3.900 | 2.0km | |\n",
    "| 8  | 6.185 | 2.0km | |\n",
    "| 9  | 6.950 | 2.0km | |\n",
    "| 10 | 7.340 | 2.0km | |\n",
    "| 11 | 8.500 | 2.0km | |\n",
    "| 12 | 9.610 | 2.0km | |\n",
    "| 13 | 10.35 | 2.0km | |\n",
    "| 14 | 11.20 | 2.0km | |\n",
    "| 15 | 12.30 | 2.0km | |\n",
    "| 16 | 13.30 | 2.0km | |\n",
    "\n",
    "The retrieval algorithm also incorporates other data products, aerosol optical depth, surface albedo, column totals of water vapor and ozone, and cloud peroperties such as depth, phase, and height.\n",
    "\n",
    "## Detecting OLR from Low-Earth Orbit Satellites\n",
    "\n",
    "OLR requires a dedicated sensor to measure it from space and which the GOES-R satellites do not have them. Howevever, OLR products can be costructed by combining measurements from infrared sounders onboard numerous polar orbiting satellites. In conjunction with [UMD](http://olr.umd.edu/), NOAA creates a [daily OLR product](https://www.ncei.noaa.gov/products/climate-data-records/outgoing-longwave-radiation-daily) that extends from 1979 to the present."
   ]
  },
  {
   "cell_type": "markdown",
   "id": "0cd3dc66",
   "metadata": {},
   "source": [
    "## Discovering Satellite Datasets\n",
    "\n",
    "The the atmospheric sciences, satellite datasets are frequently stored in self-describing formats like [netcdf4](https://www.unidata.ucar.edu/software/netcdf/). NetCDF4 files contain multi-dimensional binary data and metadata that is organized in a standardized way and thus can be read using tools like Python libraries and software like [Panoply](https://www.giss.nasa.gov/tools/panoply/). In addition the observed values, information like the time of the overpass, data quality information, and the geolocation information. The schemative below conceptually shows the contents of a netCDF4 file, which can include 2D variables (temperature and precipitation) stored alongside their coordinates, latitude, longitude, and time. The binary storage and descriptive metadata strike a balance between compression and understanding, thus enabling easier dissemination and access of satellite datasets.\n",
    "\n",
    "<center><img src=\"images/xarray.png\" alt=\"TC\" width=\"600\"/></center>\n",
    "\n",
    "There are thousands of satellite data products online. Generally, you can access satellite datasets by:\n",
    "* Reading data directly from an online catalogs (e.g. [NOAA](https://www.star.nesdis.noaa.gov/portfolio/productListings.php) and [NASA](https://search.earthdata.nasa.gov/))\n",
    "* Manually downloading browsing an AWS S3 bucket\n",
    "\n",
    "Some ways to learn about new datasets include:\n",
    "* Product websites (if one exists)\n",
    "* Reading peer-reviewed publications\n",
    "\n",
    "When examining a new dataset, there are some questions you should ask to become more familiar with its contents:\n",
    "\n",
    "* How often is the data sampled? For example, every five minutes, half-hourly, hourly, daily?\n",
    "* What is the spatial resolution of the dataset? This is often in degrees latitude/longitude or km.\n",
    "* If the data are subdaily, are observations available during both day and night?\n",
    "\n",
    "Satellite dataset names are quite long, but can be used to answer the first questions. For example:\n",
    "\n",
    "**OR_ABI-L2-DSRF-M6_G16_s20222851800206_e20222851809514_c20222851827249.nc**\n",
    "\n",
    "The prefix indicates the instrument (OR_ABI), product/region (DSRF, DSR data on the full-disk), scan mode (M6), and satellite source (G16 for GOES-16). \n",
    "\n",
    "The remainder of the name shows the start (s), end (e), and creation (c) time, which are each followed by the year, month, day, hour, minute, and seconds (to one decimal place). GOES dataset names use [day of year format](https://landweb.modaps.eosdis.nasa.gov/browse/calendar.html) for dates. The file above contains data observed on day 285 in 2022 (which is Oct 11, 2022) beginning at 18:00:02 UTC and ended at 18:09:51 UTC; thus the data contains a ~10 minutes snapshot. The file was create at 18:27 UTC, so it took 20 minutes to run the retrieval and create the file. We'll browse the data source using Python, but based on the [data holdings on Amazon Webservices](https://noaa-goes16.s3.amazonaws.com/index.html#ABI-L2-RSRF/2022/285/18/), there is only one file for each hour, so this product is made once an hour.\n",
    "\n",
    "We will have to read documentation on the dataset, or open the dataset directly to answer the other questions.\n",
    "\n",
    "This lesson's examples will look Oct 11, 2022. Below is a \"True Color\" image of the Earth, as seen from GOES-16 around the time of our examples:\n",
    "\n",
    "<center><img src=\"images/TC.jpg\" alt=\"TC\" width=\"300\"/></center>\n",
    "\n",
    "The average annual albedo of the entire planet is 0.3. How does this day and region compare?\n",
    "\n",
    "## Using Python to Access and Visualize Satellite Datasets\n",
    "\n",
    "The workflow for accessing and visualizing datasets with Python broadly follows these steps:\n",
    "1. Import relevant Python packages\n",
    "2. Download or search remote repositories for the data we want\n",
    "3. Import the dataset into memory\n",
    "4. Wrangle data for visualization\n",
    "5. Make a plot\n",
    "\n",
    "We will import four packages in this section:"
   ]
  },
  {
   "cell_type": "code",
   "execution_count": null,
   "id": "dd526993",
   "metadata": {},
   "outputs": [],
   "source": [
    "import numpy as np\n",
    "import matplotlib.pyplot as plt\n",
    "import xarray as xr"
   ]
  },
  {
   "cell_type": "markdown",
   "id": "b3d68378",
   "metadata": {},
   "source": [
    "Numpy is useful for working with multidimensional data, Matplotlib creates visualizaitons and plots, and xarray can read and wrangle netcdf files.\n",
    "\n",
    "## Visualizing Outgoing Longwave Radiation\n",
    "\n",
    "Next we need to download data. I already did this step in this example; the file is stored in the same directory as the code, so we can access it directly with just the filename. We can open the file using the [xarray package](https://docs.xarray.dev/en/stable/user-guide/io.html). The opened dataset (the 'data array') can be imported to memory by assigning it to a variable (da).\n",
    "\n",
    "Note: I edited the original file to save some time/assist with learning."
   ]
  },
  {
   "cell_type": "code",
   "execution_count": null,
   "id": "076ba788",
   "metadata": {},
   "outputs": [],
   "source": [
    "da = xr.open_dataset('olr-daily_v01r02_20221011.nc')\n",
    "da"
   ]
  },
  {
   "cell_type": "markdown",
   "id": "d96058bd",
   "metadata": {},
   "source": [
    "The assigned variable da is on the second line to print the file header. We can learn a lot about the file from the header. For example, the file dimensions are 180 x 360, there is a two-dimensional variable named olr that is probably what we are looking for. The latitude and longitude values are also present, which will be useful later.\n",
    "\n",
    "The individual datasets are accessible using the following syntax:"
   ]
  },
  {
   "cell_type": "code",
   "execution_count": null,
   "id": "133b0b60",
   "metadata": {},
   "outputs": [],
   "source": [
    "da.olr"
   ]
  },
  {
   "cell_type": "markdown",
   "id": "48ab9dbc",
   "metadata": {},
   "source": [
    "Congratulations, you have successfully read the data into Python! Next, we can make a simple [mesh plot](https://matplotlib.org/stable/api/_as_gen/matplotlib.pyplot.pcolormesh.html) using the matplotlib package to take a look at the OLR data. "
   ]
  },
  {
   "cell_type": "code",
   "execution_count": null,
   "id": "eb0f4ca7",
   "metadata": {},
   "outputs": [],
   "source": [
    "plt.figure()\n",
    "ax = plt.subplot()\n",
    "ax.pcolormesh(da.olr)\n",
    "plt.show()"
   ]
  },
  {
   "cell_type": "markdown",
   "id": "ae1d1547",
   "metadata": {},
   "source": [
    "While the above image is colorful, it's nearly impossible to know where they are located. This is where \"data wrangling\" begins! In practice, data wrangling takes up a lot of a scientist's time when performing a study.\n",
    "\n",
    "Since we didn't provide any x or y values, only the matrix indices are printed on the x and y axis. Let's extract the latitude and longitude information:"
   ]
  },
  {
   "cell_type": "code",
   "execution_count": null,
   "id": "5d5ee97b",
   "metadata": {},
   "outputs": [],
   "source": [
    "lat = da.lat\n",
    "lon = da.lon"
   ]
  },
  {
   "cell_type": "markdown",
   "id": "404ccc84",
   "metadata": {},
   "source": [
    "To plot this data, we need to make *sure all three variables have the same dimensions* which we can determine using the shape function (.shape)."
   ]
  },
  {
   "cell_type": "code",
   "execution_count": null,
   "id": "6ba99664",
   "metadata": {},
   "outputs": [],
   "source": [
    "lat.shape, lon.shape, da.olr.shape"
   ]
  },
  {
   "cell_type": "markdown",
   "id": "a9906a69",
   "metadata": {},
   "source": [
    "The variables lat and lon are 1D while RSR is 2D. We can use numpy's meshplot function to project 1D variables onto 2D. This functions returns two variables, which we will name x_olr and y_olr."
   ]
  },
  {
   "cell_type": "code",
   "execution_count": null,
   "id": "4ba1bfb7",
   "metadata": {},
   "outputs": [],
   "source": [
    "x_olr, y_olr = np.meshgrid(lon, lat)"
   ]
  },
  {
   "cell_type": "markdown",
   "id": "4df90fc8",
   "metadata": {},
   "source": [
    "Now, checking the shapes of each variable again, we can see they're all the same size:"
   ]
  },
  {
   "cell_type": "code",
   "execution_count": null,
   "id": "1bee4da1",
   "metadata": {},
   "outputs": [],
   "source": [
    "x_olr.shape, y_olr.shape, da.olr.shape"
   ]
  },
  {
   "cell_type": "markdown",
   "id": "f5e20aad",
   "metadata": {},
   "source": [
    "The code below is similar to the last plot example, but we are now passing three parameters into pcolormesh: the x-values (x_olr), y-values (y_olr), and z-values (da.olr). I am also adding x and y labels for clarity."
   ]
  },
  {
   "cell_type": "code",
   "execution_count": null,
   "id": "feee3fab",
   "metadata": {},
   "outputs": [],
   "source": [
    "# This time, we're passing x and y variables to pcolormesh\n",
    "plt.figure()\n",
    "ax = plt.subplot()\n",
    "ax.pcolormesh(x_olr, y_olr, da.olr)\n",
    "ax.set_xlabel(\"Longitude\")\n",
    "ax.set_ylabel(\"Latitude\")\n",
    "plt.show()"
   ]
  },
  {
   "cell_type": "markdown",
   "id": "123a57f1",
   "metadata": {},
   "source": [
    "The plot looks the same, but now the x and y axes use the correct latitude and longitude coordinates. However, it's difficult to know exactly where we are without a map overlay on our plot.\n",
    "\n",
    "### Adding maps to plots\n",
    "\n",
    "The package Cartopy adds mapping functionality to Matplotlib. Cartopy provides\n",
    "an interface to obtain continent, country, and feature details to overlay onto\n",
    "your plot. Furthermore, Cartopy also enables you to convert your data from one\n",
    "map projection to another. There are [many, many projections](https://scitools.org.uk/cartopy/docs/v0.15/crs/projections.html) availabe in cartopy. Today we'll explore two:\n",
    "\n",
    "* Plate Carree: Plate Carrée (French for “flat square”) is a type of equirectangular projection. It is a common projection because it is intuitive to plot a pixel on these maps – the longitude and latitude coordinates are equal to the x and y geometric coordinates.\n",
    "* Orthographic: Orthographic plots are conformal, usually centered at 0 N, 0 E, but can also be centered at the poles. This plot is advantageous because it looks spherical, and data look how we would intuitively expect them to if we were in space. This projection is useful for geostationary data, which continuously monitors one region of the Earth.\n",
    "\n",
    "Let's import cartopy:"
   ]
  },
  {
   "cell_type": "code",
   "execution_count": null,
   "id": "dc917cd1",
   "metadata": {},
   "outputs": [],
   "source": [
    "import cartopy.crs as ccrs"
   ]
  },
  {
   "cell_type": "markdown",
   "id": "38fe4eb3",
   "metadata": {},
   "source": [
    "We need to define two projections: the projection that the data are on and the projection we want our plot to reflect. They can be the same projection and since our plot is global, we will make both the plot and data projection Plate Careee."
   ]
  },
  {
   "cell_type": "code",
   "execution_count": null,
   "id": "67e78d8d",
   "metadata": {},
   "outputs": [],
   "source": [
    "plot_projection = ccrs.PlateCarree()\n",
    "data_projection = ccrs.PlateCarree()"
   ]
  },
  {
   "cell_type": "markdown",
   "id": "ebc27c80",
   "metadata": {},
   "source": [
    "To add the map to the plot, you can start with the code from the previous plotting example. However, we will pass the plot projection into subplots (what we want to convert the data to) and the data projection to transform into pcolormesh (what we want to convert the data from). Since we're going from plate carree to plate carree, no transformation is taking plate.\n",
    "\n",
    "Finally, we need to add the ax.coastlines command to actually draw the map on top of the data. We can optionally add the x and y labels using ax.gridlines(draw_labels=True)."
   ]
  },
  {
   "cell_type": "code",
   "execution_count": null,
   "id": "87f6c5d9",
   "metadata": {},
   "outputs": [],
   "source": [
    "plt.figure(figsize=[8,8])\n",
    "ax = plt.subplot(projection=plot_projection)\n",
    "ax.coastlines()\n",
    "ax.gridlines(draw_labels=True)\n",
    "\n",
    "tmp = ax.pcolormesh(x_olr, y_olr, da.olr, transform=data_projection)\n",
    "plt.colorbar(tmp, shrink=0.4)\n",
    "plt.show()"
   ]
  },
  {
   "cell_type": "markdown",
   "id": "a105f2e2",
   "metadata": {},
   "source": [
    "## Importing Data from AWS\n",
    "\n",
    "In the previous example, I provided a dataset for us to learn with. However, in practice, you'll have to discover and import your own datasets. There are thousands of satellite data products freely available to you to look at for fun and for research. Amazon supports an [open data program](https://aws.amazon.com/opendata/) that makes many climate datasets publicly available.\n",
    "\n",
    "The package s3fs is file interface for Amazon S3 (Simple Storage Service) buckets, so you can browse and search for data. NOAA's Open Data Dissemination (NODD) program is increasing access to satellite data, including GOES and JPSS. In this tutiral, we'll look at [GOES-16 data](https://registry.opendata.aws/noaa-goes)."
   ]
  },
  {
   "cell_type": "code",
   "execution_count": null,
   "id": "02999771",
   "metadata": {},
   "outputs": [],
   "source": [
    "import s3fs"
   ]
  },
  {
   "cell_type": "markdown",
   "id": "630c0759",
   "metadata": {},
   "source": [
    "\n",
    "Moving on to step two, we need to import the data into memory. To do this, we have to initialize the filesystem. We pass in the keyword anon because we are not going to pass any login information since the data are public. If you ever need to access datasets that require a username and password, you'll have to pass that instead."
   ]
  },
  {
   "cell_type": "code",
   "execution_count": null,
   "id": "3134236e",
   "metadata": {},
   "outputs": [],
   "source": [
    "fs = s3fs.S3FileSystem(anon=True)"
   ]
  },
  {
   "cell_type": "markdown",
   "id": "7b4ad4c6",
   "metadata": {},
   "source": [
    "You can manually browse the [contents of the S3 bucket](https://noaa-goes16.s3.amazonaws.com/index.html) or you can search in the cell below. The S3 bucket is named 'noaa-goes16,' and using s3fs's ls command (we'll only print the first 5 entries for brevity):"
   ]
  },
  {
   "cell_type": "code",
   "execution_count": null,
   "id": "b13b1eb9",
   "metadata": {},
   "outputs": [],
   "source": [
    "fs.ls('noaa-goes16')[0:5]"
   ]
  },
  {
   "cell_type": "markdown",
   "id": "e3ca1927",
   "metadata": {},
   "source": [
    "This is a very slow and painful way to look for data, so it is helpful to have some idea of what you are looking for. **The RSR data product name is 'ABI-L2-RSRF'** ... you're welcome :-) \n",
    "\n",
    "We can repeat the search above by extending the argument from 'noaa-goes16' to 'noaa-goes16/ABI-L2-RSRF' and running the command again. As a reminder, GOES datasets store the date in [day of year format](https://landweb.modaps.eosdis.nasa.gov/browse/calendar.html) not in month day. In our example, we're looking at Oct 11, 2022. The day of the year is 285 since 2022 is not a leap year. The hours are in [UTC](https://www.timeanddate.com/worldclock/timezone/utc), so make sure the hour you pick is during the local daytime.\n",
    "\n",
    "To save some time typing, let's construct the full path below:"
   ]
  },
  {
   "cell_type": "code",
   "execution_count": null,
   "id": "f1e76126",
   "metadata": {},
   "outputs": [],
   "source": [
    "bucket_name = 'noaa-goes16'\n",
    "product_name = 'ABI-L2-RSRF'\n",
    "year = 2022\n",
    "doy = 285\n",
    "hour = 18\n",
    "\n",
    "path = bucket_name + '/' + product_name + '/' + str(year) + '/' + str(doy).zfill(3) + '/' + str(hour).zfill(2) + '/'\n",
    "print(path)"
   ]
  },
  {
   "cell_type": "markdown",
   "id": "8dbeba37",
   "metadata": {},
   "source": [
    "We can use the ls command (short for list) to view all the files in the bucket directory. Since the data are hourly, there is only one file in the bucket:"
   ]
  },
  {
   "cell_type": "code",
   "execution_count": null,
   "id": "0bec2014",
   "metadata": {},
   "outputs": [],
   "source": [
    "# Find the specific file\n",
    "files = fs.ls(path)\n",
    "print(files)"
   ]
  },
  {
   "cell_type": "markdown",
   "id": "cf053483",
   "metadata": {},
   "source": [
    "There is only one file above, but you'll notice the square brackets \\[ \\] which means it's in a list. We can check the variable type using the type command:"
   ]
  },
  {
   "cell_type": "code",
   "execution_count": null,
   "id": "f893d429",
   "metadata": {},
   "outputs": [],
   "source": [
    "type(files)"
   ]
  },
  {
   "cell_type": "markdown",
   "id": "e366c70c",
   "metadata": {},
   "source": [
    "We can extract a single file path from the list using the [0] index."
   ]
  },
  {
   "cell_type": "code",
   "execution_count": null,
   "id": "837c8444",
   "metadata": {},
   "outputs": [],
   "source": [
    "# Open\n",
    "remote_obj = fs.open(files[0], mode='rb')"
   ]
  },
  {
   "cell_type": "markdown",
   "id": "ba4b773a",
   "metadata": {},
   "source": [
    " Now that we have found our the remote path to our files in the satellite data \"haystack\" we can finally open them:\n",
    " \n",
    "## Visualizing hourly Reflected Shortwave Radiation \n",
    "\n",
    "The next few steps are similar to the ones we followed in the OLR example. We will use xarray to read the netcdf file and print the header information:"
   ]
  },
  {
   "cell_type": "code",
   "execution_count": null,
   "id": "36afcbb7",
   "metadata": {},
   "outputs": [],
   "source": [
    "# Read\n",
    "abi_L2_RSR = xr.open_dataset(remote_obj, engine='h5netcdf')\n",
    "abi_L2_RSR"
   ]
  },
  {
   "cell_type": "markdown",
   "id": "707e6082",
   "metadata": {},
   "source": [
    "Like before, let's extract the latitude and longitide values and examine the shape."
   ]
  },
  {
   "cell_type": "code",
   "execution_count": null,
   "id": "4e622e15",
   "metadata": {},
   "outputs": [],
   "source": [
    "lat_rsr = abi_L2_RSR.lat.values\n",
    "lon_rsr = abi_L2_RSR.lon.values\n",
    "lat_rsr.shape, lon_rsr.shape, abi_L2_RSR.RSR.shape"
   ]
  },
  {
   "cell_type": "markdown",
   "id": "01a696ef",
   "metadata": {},
   "source": [
    "Once again, you can see they're not the same dimensions and we'll have to use meshgrid:"
   ]
  },
  {
   "cell_type": "code",
   "execution_count": null,
   "id": "2fa3151f",
   "metadata": {},
   "outputs": [],
   "source": [
    "x_rsr, y_rsr = np.meshgrid(lon_rsr, lat_rsr)"
   ]
  },
  {
   "cell_type": "markdown",
   "id": "87ce4af2",
   "metadata": {},
   "source": [
    "Now that we have our (x, y, z) values, we can create out plot. This time, let's exploring using another map project.\n",
    "\n",
    "\n",
    "Since geostationary data will only cover once side of the planet, lets try using an orthographic projection this time. The default position of this map centers over the (0°N,0°W) point, but GOES-16 is centered over (0°N,75.2°W), so we will pass in an arguement to move the center. Note: The center point is actually stored in the netcdf file, in the variable nominal_satellite_subpoint_lon and nominal_satellite_subpoint_lat. You could access these with the command da.nominal_satellite_subpoint_lon and danominal_satellite_subpoint_lat. It's helpful to have this information in the file versus having to read documentation to find out!"
   ]
  },
  {
   "cell_type": "code",
   "execution_count": null,
   "id": "8684a732",
   "metadata": {},
   "outputs": [],
   "source": [
    "plot_projection =ccrs.Orthographic(central_longitude=-75.2)\n",
    "data_projection = ccrs.PlateCarree()"
   ]
  },
  {
   "cell_type": "markdown",
   "id": "efa75cae",
   "metadata": {},
   "source": [
    "It would also be helpful to add a colorbar. I add the shrink argument to the colorbar because otherwise it takes up a lot of space on the plot (try removing it if you like!)."
   ]
  },
  {
   "cell_type": "code",
   "execution_count": null,
   "id": "510264cb",
   "metadata": {},
   "outputs": [],
   "source": [
    "plt.figure(figsize=[8,8])\n",
    "ax = plt.subplot(projection=plot_projection)\n",
    "ax.coastlines()\n",
    "ax.set_global()\n",
    "tmp = ax.pcolormesh(x_rsr, y_rsr, abi_L2_RSR.RSR, transform=data_projection)\n",
    "plt.colorbar(tmp, shrink=0.8)\n",
    "plt.show()"
   ]
  },
  {
   "cell_type": "markdown",
   "id": "1bac28ec",
   "metadata": {},
   "source": [
    "## Summary\n"
   ]
  },
  {
   "cell_type": "markdown",
   "id": "98077e27",
   "metadata": {},
   "source": [
    "In this lesson we learned how to access several radiation budget datasets, import them into python, and display on a plot. While there are some differences in how we handled these datasets, the workflow for accessing and visualizing datasets is similar:\n",
    "\n",
    "1. Import relevant Python packages\n",
    "2. Download or search remote repositories for the data we want\n",
    "3. Import the dataset into memory\n",
    "4. Wrangle data for visualization\n",
    "5. Make a plot\n",
    "\n",
    "Next steps: Test your knowledge by completing the assignment!"
   ]
  }
 ],
 "metadata": {
  "kernelspec": {
   "display_name": "Python 3.11.0 ('notebook_demo')",
   "language": "python",
   "name": "python3"
  },
  "language_info": {
   "codemirror_mode": {
    "name": "ipython",
    "version": 3
   },
   "file_extension": ".py",
   "mimetype": "text/x-python",
   "name": "python",
   "nbconvert_exporter": "python",
   "pygments_lexer": "ipython3",
   "version": "3.11.0"
  },
  "vscode": {
   "interpreter": {
    "hash": "4589143d4cda0c8671911bd60c16dc1d10ec327722e7574bc882b745b51509b4"
   }
  }
 },
 "nbformat": 4,
 "nbformat_minor": 5
}
